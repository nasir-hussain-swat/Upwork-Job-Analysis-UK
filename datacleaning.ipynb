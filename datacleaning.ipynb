{
 "cells": [
  {
   "cell_type": "code",
   "execution_count": 1,
   "id": "7d64e149-17f5-4e40-8e8c-d53f45dda1ab",
   "metadata": {},
   "outputs": [],
   "source": [
    "import numpy as np\n",
    "import pandas as pd\n",
    "import matplotlib.pyplot as plt"
   ]
  },
  {
   "cell_type": "code",
   "execution_count": 2,
   "id": "8a9ec0aa-4978-41e2-838d-4554e8e244f3",
   "metadata": {},
   "outputs": [
    {
     "data": {
      "text/html": [
       "<div>\n",
       "<style scoped>\n",
       "    .dataframe tbody tr th:only-of-type {\n",
       "        vertical-align: middle;\n",
       "    }\n",
       "\n",
       "    .dataframe tbody tr th {\n",
       "        vertical-align: top;\n",
       "    }\n",
       "\n",
       "    .dataframe thead th {\n",
       "        text-align: right;\n",
       "    }\n",
       "</style>\n",
       "<table border=\"1\" class=\"dataframe\">\n",
       "  <thead>\n",
       "    <tr style=\"text-align: right;\">\n",
       "      <th></th>\n",
       "      <th>title</th>\n",
       "      <th>link</th>\n",
       "      <th>description</th>\n",
       "      <th>published_date</th>\n",
       "      <th>is_hourly</th>\n",
       "      <th>hourly_low</th>\n",
       "      <th>hourly_high</th>\n",
       "      <th>budget</th>\n",
       "      <th>country</th>\n",
       "    </tr>\n",
       "  </thead>\n",
       "  <tbody>\n",
       "    <tr>\n",
       "      <th>0</th>\n",
       "      <td>Experienced Media Buyer For Solar Pannel and R...</td>\n",
       "      <td>https://www.upwork.com/jobs/Experienced-Media-...</td>\n",
       "      <td>We’re looking for a talented and hardworking a...</td>\n",
       "      <td>2024-02-17 09:09:54+00:00</td>\n",
       "      <td>False</td>\n",
       "      <td>NaN</td>\n",
       "      <td>NaN</td>\n",
       "      <td>500.0</td>\n",
       "      <td>NaN</td>\n",
       "    </tr>\n",
       "  </tbody>\n",
       "</table>\n",
       "</div>"
      ],
      "text/plain": [
       "                                               title  \\\n",
       "0  Experienced Media Buyer For Solar Pannel and R...   \n",
       "\n",
       "                                                link  \\\n",
       "0  https://www.upwork.com/jobs/Experienced-Media-...   \n",
       "\n",
       "                                         description  \\\n",
       "0  We’re looking for a talented and hardworking a...   \n",
       "\n",
       "              published_date is_hourly  hourly_low  hourly_high  budget  \\\n",
       "0  2024-02-17 09:09:54+00:00     False         NaN          NaN   500.0   \n",
       "\n",
       "  country  \n",
       "0     NaN  "
      ]
     },
     "execution_count": 2,
     "metadata": {},
     "output_type": "execute_result"
    }
   ],
   "source": [
    "df=pd.read_csv(\"upwork-jobs.csv\")\n",
    "df.head(1)"
   ]
  },
  {
   "cell_type": "code",
   "execution_count": 4,
   "id": "c64e9e0e-a3cd-4533-92db-45ee824e9f9f",
   "metadata": {},
   "outputs": [
    {
     "name": "stdout",
     "output_type": "stream",
     "text": [
      "<class 'pandas.core.frame.DataFrame'>\n",
      "RangeIndex: 53058 entries, 0 to 53057\n",
      "Data columns (total 9 columns):\n",
      " #   Column          Non-Null Count  Dtype  \n",
      "---  ------          --------------  -----  \n",
      " 0   title           53058 non-null  object \n",
      " 1   link            53058 non-null  object \n",
      " 2   description     53058 non-null  object \n",
      " 3   published_date  53058 non-null  object \n",
      " 4   is_hourly       44829 non-null  object \n",
      " 5   hourly_low      22956 non-null  float64\n",
      " 6   hourly_high     22161 non-null  float64\n",
      " 7   budget          21873 non-null  float64\n",
      " 8   country         51917 non-null  object \n",
      "dtypes: float64(3), object(6)\n",
      "memory usage: 3.6+ MB\n"
     ]
    }
   ],
   "source": [
    "df.info()"
   ]
  },
  {
   "cell_type": "code",
   "execution_count": 3,
   "id": "83a612f4-4600-4b4d-b254-8ac4556b2b0b",
   "metadata": {},
   "outputs": [
    {
     "data": {
      "text/plain": [
       "title                 0\n",
       "link                  0\n",
       "description           0\n",
       "published_date        0\n",
       "is_hourly          8229\n",
       "hourly_low        30102\n",
       "hourly_high       30897\n",
       "budget            31185\n",
       "country            1141\n",
       "dtype: int64"
      ]
     },
     "execution_count": 3,
     "metadata": {},
     "output_type": "execute_result"
    }
   ],
   "source": [
    "df.isnull().sum()"
   ]
  },
  {
   "cell_type": "code",
   "execution_count": 4,
   "id": "bbbd2019-4719-4edd-9415-ef633c90bff7",
   "metadata": {},
   "outputs": [],
   "source": [
    "# Fill 'is_hourly' column with mode (most frequent value)\n",
    "df['is_hourly'].fillna(df['is_hourly'].mode()[0], inplace=True)\n",
    "\n"
   ]
  },
  {
   "cell_type": "code",
   "execution_count": 5,
   "id": "ef796a71-609c-46c8-aff7-258d4d805755",
   "metadata": {},
   "outputs": [],
   "source": [
    "# Fill 'hourly_low' column with mean\n",
    "hourly_low_mean = df['hourly_low'].mean()\n",
    "df['hourly_low'].fillna(hourly_low_mean, inplace=True)\n"
   ]
  },
  {
   "cell_type": "code",
   "execution_count": 6,
   "id": "d08f158a-633f-4d48-883b-17266a65aedb",
   "metadata": {},
   "outputs": [],
   "source": [
    "\n",
    "# Fill 'hourly_high' column with mean\n",
    "hourly_high_mean = df['hourly_high'].mean()\n",
    "df['hourly_high'].fillna(hourly_high_mean, inplace=True)\n"
   ]
  },
  {
   "cell_type": "code",
   "execution_count": 7,
   "id": "f1f570ec-c3dd-4777-ae5d-a9879bc47aee",
   "metadata": {},
   "outputs": [],
   "source": [
    "\n",
    "\n",
    "# Fill 'budget' column with mean\n",
    "budget_mean = df['budget'].mean()\n",
    "df['budget'].fillna(budget_mean, inplace=True)\n",
    "\n",
    "# Now the null values in the specified columns should be filled as per your requirements\n"
   ]
  },
  {
   "cell_type": "code",
   "execution_count": 8,
   "id": "d4f71731-d462-43bc-b23d-acefc81c0c92",
   "metadata": {},
   "outputs": [
    {
     "data": {
      "text/plain": [
       "title                0\n",
       "link                 0\n",
       "description          0\n",
       "published_date       0\n",
       "is_hourly            0\n",
       "hourly_low           0\n",
       "hourly_high          0\n",
       "budget               0\n",
       "country           1141\n",
       "dtype: int64"
      ]
     },
     "execution_count": 8,
     "metadata": {},
     "output_type": "execute_result"
    }
   ],
   "source": [
    "df.isnull().sum()"
   ]
  },
  {
   "cell_type": "code",
   "execution_count": 9,
   "id": "f0b877eb-4f92-472b-ae17-d35e78b32033",
   "metadata": {},
   "outputs": [
    {
     "data": {
      "text/plain": [
       "53058"
      ]
     },
     "execution_count": 9,
     "metadata": {},
     "output_type": "execute_result"
    }
   ],
   "source": [
    "len(df)"
   ]
  },
  {
   "cell_type": "code",
   "execution_count": 12,
   "id": "66912ba3-1894-4b96-bfdc-b81f6a432d26",
   "metadata": {},
   "outputs": [],
   "source": [
    "df.dropna(subset=['country'], inplace=True)\n"
   ]
  },
  {
   "cell_type": "code",
   "execution_count": 13,
   "id": "cf04264e-a21c-4002-a9a4-cf53e5369851",
   "metadata": {},
   "outputs": [
    {
     "data": {
      "text/plain": [
       "51917"
      ]
     },
     "execution_count": 13,
     "metadata": {},
     "output_type": "execute_result"
    }
   ],
   "source": [
    "len(df)"
   ]
  },
  {
   "cell_type": "code",
   "execution_count": 14,
   "id": "81b4382b-e261-4cbf-bb9b-23956340fdce",
   "metadata": {},
   "outputs": [
    {
     "data": {
      "text/plain": [
       "title             0\n",
       "link              0\n",
       "description       0\n",
       "published_date    0\n",
       "is_hourly         0\n",
       "hourly_low        0\n",
       "hourly_high       0\n",
       "budget            0\n",
       "country           0\n",
       "dtype: int64"
      ]
     },
     "execution_count": 14,
     "metadata": {},
     "output_type": "execute_result"
    }
   ],
   "source": [
    "df.isnull().sum()"
   ]
  },
  {
   "cell_type": "code",
   "execution_count": 21,
   "id": "619b8ed4-148c-40a2-b9c5-5d9f945a281f",
   "metadata": {},
   "outputs": [
    {
     "data": {
      "text/html": [
       "<div>\n",
       "<style scoped>\n",
       "    .dataframe tbody tr th:only-of-type {\n",
       "        vertical-align: middle;\n",
       "    }\n",
       "\n",
       "    .dataframe tbody tr th {\n",
       "        vertical-align: top;\n",
       "    }\n",
       "\n",
       "    .dataframe thead th {\n",
       "        text-align: right;\n",
       "    }\n",
       "</style>\n",
       "<table border=\"1\" class=\"dataframe\">\n",
       "  <thead>\n",
       "    <tr style=\"text-align: right;\">\n",
       "      <th></th>\n",
       "      <th>title</th>\n",
       "      <th>link</th>\n",
       "      <th>description</th>\n",
       "      <th>published_date</th>\n",
       "      <th>is_hourly</th>\n",
       "      <th>hourly_low</th>\n",
       "      <th>hourly_high</th>\n",
       "      <th>budget</th>\n",
       "      <th>country</th>\n",
       "    </tr>\n",
       "  </thead>\n",
       "  <tbody>\n",
       "    <tr>\n",
       "      <th>1</th>\n",
       "      <td>Full Stack Developer</td>\n",
       "      <td>https://www.upwork.com/jobs/Full-Stack-Develop...</td>\n",
       "      <td>Job Title: Full Stack DeveloperWe are seeking ...</td>\n",
       "      <td>2024-02-17 09:09:17+00:00</td>\n",
       "      <td>False</td>\n",
       "      <td>17.467895</td>\n",
       "      <td>41.60805</td>\n",
       "      <td>1100.000000</td>\n",
       "      <td>United States</td>\n",
       "    </tr>\n",
       "    <tr>\n",
       "      <th>2</th>\n",
       "      <td>SMMA Bubble App</td>\n",
       "      <td>https://www.upwork.com/jobs/SMMA-Bubble-App_%7...</td>\n",
       "      <td>I need someone to redesign my bubble.io site t...</td>\n",
       "      <td>2024-02-17 09:08:46+00:00</td>\n",
       "      <td>True</td>\n",
       "      <td>10.000000</td>\n",
       "      <td>30.00000</td>\n",
       "      <td>746.263521</td>\n",
       "      <td>United States</td>\n",
       "    </tr>\n",
       "    <tr>\n",
       "      <th>3</th>\n",
       "      <td>Talent Hunter Specialized in Marketing</td>\n",
       "      <td>https://www.upwork.com/jobs/Talent-Hunter-Spec...</td>\n",
       "      <td>Join Our Growing Team!We are an innovative com...</td>\n",
       "      <td>2024-02-17 09:08:08+00:00</td>\n",
       "      <td>True</td>\n",
       "      <td>17.467895</td>\n",
       "      <td>41.60805</td>\n",
       "      <td>746.263521</td>\n",
       "      <td>United States</td>\n",
       "    </tr>\n",
       "    <tr>\n",
       "      <th>4</th>\n",
       "      <td>Data Engineer</td>\n",
       "      <td>https://www.upwork.com/jobs/Data-Engineer_%7E0...</td>\n",
       "      <td>We are looking for a resource who can work par...</td>\n",
       "      <td>2024-02-17 09:07:42+00:00</td>\n",
       "      <td>False</td>\n",
       "      <td>17.467895</td>\n",
       "      <td>41.60805</td>\n",
       "      <td>650.000000</td>\n",
       "      <td>India</td>\n",
       "    </tr>\n",
       "    <tr>\n",
       "      <th>5</th>\n",
       "      <td>SEO for Portuguese Psychologist site</td>\n",
       "      <td>https://www.upwork.com/jobs/SEO-for-Portuguese...</td>\n",
       "      <td>Looking for a SEO  who can help me improve my ...</td>\n",
       "      <td>2024-02-17 09:07:41+00:00</td>\n",
       "      <td>True</td>\n",
       "      <td>17.467895</td>\n",
       "      <td>41.60805</td>\n",
       "      <td>746.263521</td>\n",
       "      <td>Portugal</td>\n",
       "    </tr>\n",
       "  </tbody>\n",
       "</table>\n",
       "</div>"
      ],
      "text/plain": [
       "                                    title  \\\n",
       "1                    Full Stack Developer   \n",
       "2                         SMMA Bubble App   \n",
       "3  Talent Hunter Specialized in Marketing   \n",
       "4                           Data Engineer   \n",
       "5    SEO for Portuguese Psychologist site   \n",
       "\n",
       "                                                link  \\\n",
       "1  https://www.upwork.com/jobs/Full-Stack-Develop...   \n",
       "2  https://www.upwork.com/jobs/SMMA-Bubble-App_%7...   \n",
       "3  https://www.upwork.com/jobs/Talent-Hunter-Spec...   \n",
       "4  https://www.upwork.com/jobs/Data-Engineer_%7E0...   \n",
       "5  https://www.upwork.com/jobs/SEO-for-Portuguese...   \n",
       "\n",
       "                                         description  \\\n",
       "1  Job Title: Full Stack DeveloperWe are seeking ...   \n",
       "2  I need someone to redesign my bubble.io site t...   \n",
       "3  Join Our Growing Team!We are an innovative com...   \n",
       "4  We are looking for a resource who can work par...   \n",
       "5  Looking for a SEO  who can help me improve my ...   \n",
       "\n",
       "              published_date  is_hourly  hourly_low  hourly_high       budget  \\\n",
       "1  2024-02-17 09:09:17+00:00      False   17.467895     41.60805  1100.000000   \n",
       "2  2024-02-17 09:08:46+00:00       True   10.000000     30.00000   746.263521   \n",
       "3  2024-02-17 09:08:08+00:00       True   17.467895     41.60805   746.263521   \n",
       "4  2024-02-17 09:07:42+00:00      False   17.467895     41.60805   650.000000   \n",
       "5  2024-02-17 09:07:41+00:00       True   17.467895     41.60805   746.263521   \n",
       "\n",
       "         country  \n",
       "1  United States  \n",
       "2  United States  \n",
       "3  United States  \n",
       "4          India  \n",
       "5       Portugal  "
      ]
     },
     "execution_count": 21,
     "metadata": {},
     "output_type": "execute_result"
    }
   ],
   "source": [
    "df.head()"
   ]
  },
  {
   "cell_type": "code",
   "execution_count": 16,
   "id": "24d8784f-77aa-477d-88d3-712db4b88e1c",
   "metadata": {},
   "outputs": [],
   "source": [
    "df[\"title\"]=df[\"title\"].str.lower()"
   ]
  },
  {
   "cell_type": "code",
   "execution_count": 17,
   "id": "f4377402-d9f0-4a3d-9330-2e7644dc18ff",
   "metadata": {},
   "outputs": [],
   "source": [
    "df[\"title\"].value_counts().to_csv('title_counts.csv',header=True)\n"
   ]
  },
  {
   "cell_type": "code",
   "execution_count": 20,
   "id": "71ddea4b-cefa-4b6e-a941-4d49c2803d0e",
   "metadata": {},
   "outputs": [],
   "source": [
    "#making them simple \n",
    "# Replace cells containing 'logo' with 'logo' and remove extra strings\n",
    "\n",
    "df['title'] = df['title'].str.replace('.*logo.*', 'Logo', regex=True)\n",
    "df['title'] = df['title'].str.replace('.*design.*', 'Graphic Designer', regex=True)\n",
    "\n",
    "df[\"title\"].value_counts().to_csv('title_counts.csv',header=True)\n",
    "\n"
   ]
  },
  {
   "cell_type": "code",
   "execution_count": 21,
   "id": "2df7e947-3134-487f-a2bd-3815508f5b68",
   "metadata": {},
   "outputs": [],
   "source": [
    "#making them simple \n",
    "# Replace cells containing 'logo' with 'logo' and remove extra strings\n",
    "\n",
    "df['title'] = df['title'].str.replace('.*seo.*', 'SEO', regex=True)\n",
    "\n",
    "df[\"title\"].value_counts().to_csv('title_counts.csv',header=True)\n",
    "\n"
   ]
  },
  {
   "cell_type": "code",
   "execution_count": 22,
   "id": "e842aae4-5f0b-4817-8e3f-ed10b2f6eac9",
   "metadata": {},
   "outputs": [],
   "source": [
    "#making them simple \n",
    "# Replace cells containing 'logo' with 'logo' and remove extra strings\n",
    "\n",
    "df['title'] = df['title'].str.replace('.*video.*', 'Vidoe Editor', regex=True)\n",
    "\n",
    "df[\"title\"].value_counts().to_csv('title_counts.csv',header=True)\n",
    "\n"
   ]
  },
  {
   "cell_type": "code",
   "execution_count": 28,
   "id": "c5a0e520-4592-4e14-a342-dd4c455af0df",
   "metadata": {},
   "outputs": [],
   "source": [
    "#making them simple \n",
    "# Replace cells containing 'logo' with 'logo' and remove extra strings\n",
    "\n",
    "df['title'] = df['title'].str.replace('.*virtual.*', 'Virtual Assistant', regex=True)\n",
    "\n",
    "\n",
    "\n",
    "\n",
    "\n",
    "df[\"title\"].value_counts().to_csv('title_counts.csv',header=True)\n"
   ]
  },
  {
   "cell_type": "code",
   "execution_count": 30,
   "id": "e05dc48f-7cea-4ec2-ab6a-44ba8a122bd6",
   "metadata": {},
   "outputs": [],
   "source": [
    "\n",
    "df['title']=df['title'].str.replace('.*marketing.*','Digital Marketing',regex=True)\n",
    "\n",
    "df[\"title\"].value_counts().to_csv('title_counts.csv',header=True)\n"
   ]
  },
  {
   "cell_type": "code",
   "execution_count": 31,
   "id": "0d55bd5c-75da-41cc-8bad-465f08d1e079",
   "metadata": {},
   "outputs": [],
   "source": [
    "\n",
    "df['title']=df['title'].str.replace('.*data.*','Data Entry',regex=True)\n",
    "\n",
    "df[\"title\"].value_counts().to_csv('title_counts.csv',header=True)\n"
   ]
  },
  {
   "cell_type": "code",
   "execution_count": 34,
   "id": "6ec2aa47-58c2-4325-b013-c03e3f13518b",
   "metadata": {},
   "outputs": [],
   "source": [
    "df.to_csv('upwork-jobs.csv', index=False)"
   ]
  },
  {
   "cell_type": "code",
   "execution_count": 55,
   "id": "b14e141c-6d7f-4550-8675-94428d47d542",
   "metadata": {},
   "outputs": [],
   "source": []
  },
  {
   "cell_type": "code",
   "execution_count": 56,
   "id": "3341f3b5-e899-421f-987a-75b11d0be4b4",
   "metadata": {},
   "outputs": [],
   "source": []
  },
  {
   "cell_type": "code",
   "execution_count": null,
   "id": "43fe526b-5a9e-4141-9107-6f385db95f69",
   "metadata": {},
   "outputs": [],
   "source": []
  }
 ],
 "metadata": {
  "kernelspec": {
   "display_name": "datascience",
   "language": "python",
   "name": "datascience"
  },
  "language_info": {
   "codemirror_mode": {
    "name": "ipython",
    "version": 3
   },
   "file_extension": ".py",
   "mimetype": "text/x-python",
   "name": "python",
   "nbconvert_exporter": "python",
   "pygments_lexer": "ipython3",
   "version": "3.10.9"
  }
 },
 "nbformat": 4,
 "nbformat_minor": 5
}
